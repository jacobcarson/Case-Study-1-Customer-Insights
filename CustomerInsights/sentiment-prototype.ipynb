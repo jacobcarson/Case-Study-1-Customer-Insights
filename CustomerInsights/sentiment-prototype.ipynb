{
 "cells": [
  {
   "cell_type": "code",
   "execution_count": 1,
   "metadata": {},
   "outputs": [
    {
     "name": "stderr",
     "output_type": "stream",
     "text": [
      "c:\\Users\\jacob\\Documents\\Projects\\Claudio Case Studies\\Case_1\\Case-Study-1-Customer-Insights\\env\\lib\\site-packages\\tqdm\\auto.py:21: TqdmWarning: IProgress not found. Please update jupyter and ipywidgets. See https://ipywidgets.readthedocs.io/en/stable/user_install.html\n",
      "  from .autonotebook import tqdm as notebook_tqdm\n"
     ]
    },
    {
     "name": "stdout",
     "output_type": "stream",
     "text": [
      "Path to dataset files: C:\\Users\\jacob\\.cache\\kagglehub\\datasets\\jocelyndumlao\\shoppingappreviews-dataset\\versions\\1\n"
     ]
    }
   ],
   "source": [
    "import kagglehub\n",
    "\n",
    "# Download latest version\n",
    "path = kagglehub.dataset_download(\"jocelyndumlao/shoppingappreviews-dataset\")\n",
    "\n",
    "print(\"Path to dataset files:\", path)"
   ]
  },
  {
   "cell_type": "code",
   "execution_count": 2,
   "metadata": {},
   "outputs": [],
   "source": [
    "import pandas as pd\n",
    "\n",
    "data = pd.read_csv(path + \"\\ShoppingAppReviews Dataset\\ShoppingAppReviews\\csv\\Walmart.csv\")"
   ]
  },
  {
   "cell_type": "code",
   "execution_count": 3,
   "metadata": {},
   "outputs": [
    {
     "data": {
      "text/html": [
       "<div>\n",
       "<style scoped>\n",
       "    .dataframe tbody tr th:only-of-type {\n",
       "        vertical-align: middle;\n",
       "    }\n",
       "\n",
       "    .dataframe tbody tr th {\n",
       "        vertical-align: top;\n",
       "    }\n",
       "\n",
       "    .dataframe thead th {\n",
       "        text-align: right;\n",
       "    }\n",
       "</style>\n",
       "<table border=\"1\" class=\"dataframe\">\n",
       "  <thead>\n",
       "    <tr style=\"text-align: right;\">\n",
       "      <th></th>\n",
       "      <th>reviewId</th>\n",
       "      <th>content</th>\n",
       "      <th>score</th>\n",
       "      <th>thumbsUpCount</th>\n",
       "      <th>at</th>\n",
       "      <th>replyContent</th>\n",
       "      <th>repliedAt</th>\n",
       "      <th>appName</th>\n",
       "    </tr>\n",
       "  </thead>\n",
       "  <tbody>\n",
       "    <tr>\n",
       "      <th>0</th>\n",
       "      <td>abe39fc5-f518-4271-82ad-22d7bc189315</td>\n",
       "      <td>Fantastic app! It's so easy to use, and I rare...</td>\n",
       "      <td>4</td>\n",
       "      <td>153</td>\n",
       "      <td>1722395439000</td>\n",
       "      <td>We value our customers review. Please provide ...</td>\n",
       "      <td>1.722473e+12</td>\n",
       "      <td>Walmart</td>\n",
       "    </tr>\n",
       "    <tr>\n",
       "      <th>1</th>\n",
       "      <td>39f4ad11-34e1-401a-a93a-5fa98e98393e</td>\n",
       "      <td>Walmart Pay was finally going to be helpful. I...</td>\n",
       "      <td>3</td>\n",
       "      <td>18</td>\n",
       "      <td>1723259261000</td>\n",
       "      <td>Madison, we understand how crucial it is to ma...</td>\n",
       "      <td>1.723260e+12</td>\n",
       "      <td>Walmart</td>\n",
       "    </tr>\n",
       "    <tr>\n",
       "      <th>2</th>\n",
       "      <td>30ad935c-da9d-4b61-9eaa-428bd0392967</td>\n",
       "      <td>I've been using this app for years and it has ...</td>\n",
       "      <td>3</td>\n",
       "      <td>68</td>\n",
       "      <td>1722433575000</td>\n",
       "      <td>We understand the frustration with app issues,...</td>\n",
       "      <td>1.722447e+12</td>\n",
       "      <td>Walmart</td>\n",
       "    </tr>\n",
       "    <tr>\n",
       "      <th>3</th>\n",
       "      <td>360e62e4-7dc7-4069-bb35-0ba9dc581b96</td>\n",
       "      <td>apps design is pretty good. But I can't give 5...</td>\n",
       "      <td>3</td>\n",
       "      <td>11</td>\n",
       "      <td>1723208146000</td>\n",
       "      <td>We’re glad you like the app’s design but under...</td>\n",
       "      <td>1.723211e+12</td>\n",
       "      <td>Walmart</td>\n",
       "    </tr>\n",
       "    <tr>\n",
       "      <th>4</th>\n",
       "      <td>e9eca83d-26ee-44be-8047-d097234bca01</td>\n",
       "      <td>The main feature I use on this app gives me th...</td>\n",
       "      <td>3</td>\n",
       "      <td>9</td>\n",
       "      <td>1723243130000</td>\n",
       "      <td>Your input is valuable to us. To get this look...</td>\n",
       "      <td>1.723249e+12</td>\n",
       "      <td>Walmart</td>\n",
       "    </tr>\n",
       "  </tbody>\n",
       "</table>\n",
       "</div>"
      ],
      "text/plain": [
       "                               reviewId  \\\n",
       "0  abe39fc5-f518-4271-82ad-22d7bc189315   \n",
       "1  39f4ad11-34e1-401a-a93a-5fa98e98393e   \n",
       "2  30ad935c-da9d-4b61-9eaa-428bd0392967   \n",
       "3  360e62e4-7dc7-4069-bb35-0ba9dc581b96   \n",
       "4  e9eca83d-26ee-44be-8047-d097234bca01   \n",
       "\n",
       "                                             content  score  thumbsUpCount  \\\n",
       "0  Fantastic app! It's so easy to use, and I rare...      4            153   \n",
       "1  Walmart Pay was finally going to be helpful. I...      3             18   \n",
       "2  I've been using this app for years and it has ...      3             68   \n",
       "3  apps design is pretty good. But I can't give 5...      3             11   \n",
       "4  The main feature I use on this app gives me th...      3              9   \n",
       "\n",
       "              at                                       replyContent  \\\n",
       "0  1722395439000  We value our customers review. Please provide ...   \n",
       "1  1723259261000  Madison, we understand how crucial it is to ma...   \n",
       "2  1722433575000  We understand the frustration with app issues,...   \n",
       "3  1723208146000  We’re glad you like the app’s design but under...   \n",
       "4  1723243130000  Your input is valuable to us. To get this look...   \n",
       "\n",
       "      repliedAt  appName  \n",
       "0  1.722473e+12  Walmart  \n",
       "1  1.723260e+12  Walmart  \n",
       "2  1.722447e+12  Walmart  \n",
       "3  1.723211e+12  Walmart  \n",
       "4  1.723249e+12  Walmart  "
      ]
     },
     "execution_count": 3,
     "metadata": {},
     "output_type": "execute_result"
    }
   ],
   "source": [
    "data.head()"
   ]
  },
  {
   "cell_type": "code",
   "execution_count": 4,
   "metadata": {},
   "outputs": [],
   "source": [
    "data = data[['reviewId', 'content', 'at']]"
   ]
  },
  {
   "cell_type": "code",
   "execution_count": 5,
   "metadata": {},
   "outputs": [
    {
     "data": {
      "text/html": [
       "<div>\n",
       "<style scoped>\n",
       "    .dataframe tbody tr th:only-of-type {\n",
       "        vertical-align: middle;\n",
       "    }\n",
       "\n",
       "    .dataframe tbody tr th {\n",
       "        vertical-align: top;\n",
       "    }\n",
       "\n",
       "    .dataframe thead th {\n",
       "        text-align: right;\n",
       "    }\n",
       "</style>\n",
       "<table border=\"1\" class=\"dataframe\">\n",
       "  <thead>\n",
       "    <tr style=\"text-align: right;\">\n",
       "      <th></th>\n",
       "      <th>reviewId</th>\n",
       "      <th>content</th>\n",
       "      <th>at</th>\n",
       "    </tr>\n",
       "  </thead>\n",
       "  <tbody>\n",
       "    <tr>\n",
       "      <th>0</th>\n",
       "      <td>abe39fc5-f518-4271-82ad-22d7bc189315</td>\n",
       "      <td>Fantastic app! It's so easy to use, and I rare...</td>\n",
       "      <td>1722395439000</td>\n",
       "    </tr>\n",
       "    <tr>\n",
       "      <th>1</th>\n",
       "      <td>39f4ad11-34e1-401a-a93a-5fa98e98393e</td>\n",
       "      <td>Walmart Pay was finally going to be helpful. I...</td>\n",
       "      <td>1723259261000</td>\n",
       "    </tr>\n",
       "    <tr>\n",
       "      <th>2</th>\n",
       "      <td>30ad935c-da9d-4b61-9eaa-428bd0392967</td>\n",
       "      <td>I've been using this app for years and it has ...</td>\n",
       "      <td>1722433575000</td>\n",
       "    </tr>\n",
       "    <tr>\n",
       "      <th>3</th>\n",
       "      <td>360e62e4-7dc7-4069-bb35-0ba9dc581b96</td>\n",
       "      <td>apps design is pretty good. But I can't give 5...</td>\n",
       "      <td>1723208146000</td>\n",
       "    </tr>\n",
       "    <tr>\n",
       "      <th>4</th>\n",
       "      <td>e9eca83d-26ee-44be-8047-d097234bca01</td>\n",
       "      <td>The main feature I use on this app gives me th...</td>\n",
       "      <td>1723243130000</td>\n",
       "    </tr>\n",
       "  </tbody>\n",
       "</table>\n",
       "</div>"
      ],
      "text/plain": [
       "                               reviewId  \\\n",
       "0  abe39fc5-f518-4271-82ad-22d7bc189315   \n",
       "1  39f4ad11-34e1-401a-a93a-5fa98e98393e   \n",
       "2  30ad935c-da9d-4b61-9eaa-428bd0392967   \n",
       "3  360e62e4-7dc7-4069-bb35-0ba9dc581b96   \n",
       "4  e9eca83d-26ee-44be-8047-d097234bca01   \n",
       "\n",
       "                                             content             at  \n",
       "0  Fantastic app! It's so easy to use, and I rare...  1722395439000  \n",
       "1  Walmart Pay was finally going to be helpful. I...  1723259261000  \n",
       "2  I've been using this app for years and it has ...  1722433575000  \n",
       "3  apps design is pretty good. But I can't give 5...  1723208146000  \n",
       "4  The main feature I use on this app gives me th...  1723243130000  "
      ]
     },
     "execution_count": 5,
     "metadata": {},
     "output_type": "execute_result"
    }
   ],
   "source": [
    "data.head()"
   ]
  },
  {
   "cell_type": "code",
   "execution_count": 6,
   "metadata": {},
   "outputs": [
    {
     "name": "stdout",
     "output_type": "stream",
     "text": [
      "<class 'pandas.core.frame.DataFrame'>\n",
      "RangeIndex: 45000 entries, 0 to 44999\n",
      "Data columns (total 3 columns):\n",
      " #   Column    Non-Null Count  Dtype \n",
      "---  ------    --------------  ----- \n",
      " 0   reviewId  45000 non-null  object\n",
      " 1   content   45000 non-null  object\n",
      " 2   at        45000 non-null  int64 \n",
      "dtypes: int64(1), object(2)\n",
      "memory usage: 1.0+ MB\n"
     ]
    }
   ],
   "source": [
    "data.info()"
   ]
  },
  {
   "cell_type": "code",
   "execution_count": 7,
   "metadata": {},
   "outputs": [
    {
     "name": "stdout",
     "output_type": "stream",
     "text": [
      "                                   reviewId  \\\n",
      "0      abe39fc5-f518-4271-82ad-22d7bc189315   \n",
      "1      39f4ad11-34e1-401a-a93a-5fa98e98393e   \n",
      "2      30ad935c-da9d-4b61-9eaa-428bd0392967   \n",
      "3      360e62e4-7dc7-4069-bb35-0ba9dc581b96   \n",
      "4      e9eca83d-26ee-44be-8047-d097234bca01   \n",
      "...                                     ...   \n",
      "44995  3ae88d0f-3d11-4fcc-9383-26c9f3fd72b3   \n",
      "44996  82ba5eab-baa9-4be3-9042-bcca1a9a99ee   \n",
      "44997  e491a6c4-4858-43ba-bb56-5571c247f701   \n",
      "44998  6bee74f8-f4cb-4ca7-a326-8e9aec7966fd   \n",
      "44999  2a818bf7-a422-4794-b044-fa3c3578e7ae   \n",
      "\n",
      "                                                 content          at  \n",
      "0      Fantastic app! It's so easy to use, and I rare...  07/31/2024  \n",
      "1      Walmart Pay was finally going to be helpful. I...  08/10/2024  \n",
      "2      I've been using this app for years and it has ...  07/31/2024  \n",
      "3      apps design is pretty good. But I can't give 5...  08/09/2024  \n",
      "4      The main feature I use on this app gives me th...  08/09/2024  \n",
      "...                                                  ...         ...  \n",
      "44995  Online buying is not only convenient but Walma...  08/31/2023  \n",
      "44996  I downloaded the app and it wouldn't open, so ...  01/10/2022  \n",
      "44997  How many days does it take for the android app...  09/16/2020  \n",
      "44998  I purchased a Isinscooter that had a manufactu...  02/04/2023  \n",
      "44999  extremely convenient orders arrive on time if ...  09/10/2021  \n",
      "\n",
      "[45000 rows x 3 columns]\n"
     ]
    }
   ],
   "source": [
    "import pandas as pd\n",
    "\n",
    "# First, check if 'at' contains Unix timestamps (numeric values) and convert them to datetime\n",
    "data['at'] = pd.to_datetime(data['at'], errors='coerce', unit='ms')\n",
    "\n",
    "# Convert 'at' to datetime in the desired format (mm/dd/yyyy)\n",
    "data['at'] = data['at'].dt.strftime('%m/%d/%Y')\n",
    "\n",
    "# Remove duplicate rows\n",
    "data = data.drop_duplicates()\n",
    "\n",
    "# Remove rows with any null values\n",
    "data = data.dropna()\n",
    "\n",
    "# Display the cleaned dataframe\n",
    "print(data)\n"
   ]
  },
  {
   "cell_type": "code",
   "execution_count": 8,
   "metadata": {},
   "outputs": [
    {
     "name": "stderr",
     "output_type": "stream",
     "text": [
      "No model was supplied, defaulted to distilbert/distilbert-base-uncased-finetuned-sst-2-english and revision 714eb0f (https://huggingface.co/distilbert/distilbert-base-uncased-finetuned-sst-2-english).\n",
      "Using a pipeline without specifying a model name and revision in production is not recommended.\n",
      "c:\\Users\\jacob\\Documents\\Projects\\Claudio Case Studies\\Case_1\\Case-Study-1-Customer-Insights\\env\\lib\\site-packages\\huggingface_hub\\file_download.py:140: UserWarning: `huggingface_hub` cache-system uses symlinks by default to efficiently store duplicated files but your machine does not support them in C:\\Users\\jacob\\.cache\\huggingface\\hub\\models--distilbert--distilbert-base-uncased-finetuned-sst-2-english. Caching files will still work but in a degraded version that might require more space on your disk. This warning can be disabled by setting the `HF_HUB_DISABLE_SYMLINKS_WARNING` environment variable. For more details, see https://huggingface.co/docs/huggingface_hub/how-to-cache#limitations.\n",
      "To support symlinks on Windows, you either need to activate Developer Mode or to run Python as an administrator. In order to activate developer mode, see this article: https://docs.microsoft.com/en-us/windows/apps/get-started/enable-your-device-for-development\n",
      "  warnings.warn(message)\n",
      "Device set to use cpu\n"
     ]
    },
    {
     "name": "stdout",
     "output_type": "stream",
     "text": [
      "                                   reviewId  \\\n",
      "0      abe39fc5-f518-4271-82ad-22d7bc189315   \n",
      "1      39f4ad11-34e1-401a-a93a-5fa98e98393e   \n",
      "2      30ad935c-da9d-4b61-9eaa-428bd0392967   \n",
      "3      360e62e4-7dc7-4069-bb35-0ba9dc581b96   \n",
      "4      e9eca83d-26ee-44be-8047-d097234bca01   \n",
      "...                                     ...   \n",
      "44995  3ae88d0f-3d11-4fcc-9383-26c9f3fd72b3   \n",
      "44996  82ba5eab-baa9-4be3-9042-bcca1a9a99ee   \n",
      "44997  e491a6c4-4858-43ba-bb56-5571c247f701   \n",
      "44998  6bee74f8-f4cb-4ca7-a326-8e9aec7966fd   \n",
      "44999  2a818bf7-a422-4794-b044-fa3c3578e7ae   \n",
      "\n",
      "                                                 content          at sentiment  \n",
      "0      Fantastic app! It's so easy to use, and I rare...  07/31/2024  POSITIVE  \n",
      "1      Walmart Pay was finally going to be helpful. I...  08/10/2024  NEGATIVE  \n",
      "2      I've been using this app for years and it has ...  07/31/2024  NEGATIVE  \n",
      "3      apps design is pretty good. But I can't give 5...  08/09/2024  NEGATIVE  \n",
      "4      The main feature I use on this app gives me th...  08/09/2024  NEGATIVE  \n",
      "...                                                  ...         ...       ...  \n",
      "44995  Online buying is not only convenient but Walma...  08/31/2023  POSITIVE  \n",
      "44996  I downloaded the app and it wouldn't open, so ...  01/10/2022  NEGATIVE  \n",
      "44997  How many days does it take for the android app...  09/16/2020  NEGATIVE  \n",
      "44998  I purchased a Isinscooter that had a manufactu...  02/04/2023  NEGATIVE  \n",
      "44999  extremely convenient orders arrive on time if ...  09/10/2021  POSITIVE  \n",
      "\n",
      "[45000 rows x 4 columns]\n"
     ]
    }
   ],
   "source": [
    "import pandas as pd\n",
    "from transformers import pipeline\n",
    "\n",
    "# Use HuggingFace's transformer pipeline directly for sentiment analysis\n",
    "sentiment_analyzer = pipeline('sentiment-analysis')\n",
    "\n",
    "# Function to get sentiment using HuggingFace transformer pipeline\n",
    "def get_sentiment(text):\n",
    "    result = sentiment_analyzer(text)\n",
    "    return result[0]['label']\n",
    "\n",
    "# Apply sentiment analysis to the 'content' column\n",
    "data['sentiment'] = data['content'].apply(get_sentiment)\n",
    "\n",
    "# Print the result with the sentiment column added\n",
    "print(data)\n"
   ]
  },
  {
   "cell_type": "code",
   "execution_count": null,
   "metadata": {},
   "outputs": [],
   "source": []
  }
 ],
 "metadata": {
  "kernelspec": {
   "display_name": "env",
   "language": "python",
   "name": "python3"
  },
  "language_info": {
   "codemirror_mode": {
    "name": "ipython",
    "version": 3
   },
   "file_extension": ".py",
   "mimetype": "text/x-python",
   "name": "python",
   "nbconvert_exporter": "python",
   "pygments_lexer": "ipython3",
   "version": "3.10.11"
  }
 },
 "nbformat": 4,
 "nbformat_minor": 2
}
